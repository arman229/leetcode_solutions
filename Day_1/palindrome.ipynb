{
 "cells": [
  {
   "cell_type": "code",
   "execution_count": 3,
   "id": "25e16203",
   "metadata": {},
   "outputs": [
    {
     "name": "stdout",
     "output_type": "stream",
     "text": [
      "Memory used: 0.09765625 KB\n",
      "Memory used: 0.087890625 KB\n",
      "Memory used: 0.08203125 KB\n",
      "Memory used: 0.0859375 KB\n",
      "Memory used: 0.083984375 KB\n"
     ]
    }
   ],
   "source": [
    "import tracemalloc\n",
    "class Solution(object):\n",
    "    def isPalindrome(self, x):\n",
    "        \"\"\"\n",
    "            :type x: int\n",
    "            :rtype: bool\n",
    "        \"\"\"\n",
    "        string_x = str(x)\n",
    "        if string_x == string_x[::-1]:\n",
    "            return True\n",
    "        else:\n",
    "            return False\n",
    "        \n",
    "       \n",
    "sol = Solution()\n",
    "\n",
    "def test_memory(func, *args):\n",
    "    tracemalloc.start()   \n",
    "    func(*args)         \n",
    "    current,peak = tracemalloc.get_traced_memory()\n",
    "    tracemalloc.stop()   \n",
    "    return peak / 1024  \n",
    "\n",
    "\n",
    "print(\"Memory used:\", test_memory(sol.isPalindrome, 123454321), \"KB\")\n",
    "print(\"Memory used:\", test_memory(sol.isPalindrome, 1221), \"KB\")\n",
    "print(\"Memory used:\", test_memory(sol.isPalindrome, 0), \"KB\")\n",
    "print(\"Memory used:\", test_memory(sol.isPalindrome, -10), \"KB\")\n",
    "print(\"Memory used:\", test_memory(sol.isPalindrome, 10), \"KB\")"
   ]
  },
  {
   "cell_type": "code",
   "execution_count": 4,
   "id": "7dfa6e23",
   "metadata": {},
   "outputs": [
    {
     "name": "stdout",
     "output_type": "stream",
     "text": [
      "Memory used: 0.125 KB\n",
      "Memory used: 0.0 KB\n",
      "Memory used: 0.0 KB\n",
      "Memory used: 0.0 KB\n",
      "Memory used: 0.0 KB\n"
     ]
    }
   ],
   "source": [
    "class Solution(object):\n",
    "    def isPalindrome(self, x):\n",
    "        \"\"\"\n",
    "        :type x: int\n",
    "        :rtype: bool\n",
    "        \"\"\"\n",
    "        if x < 0 or (x % 10 == 0 and x!= 0):\n",
    "            return False \n",
    "        half_digit =0\n",
    "        while x > half_digit:\n",
    "            last_digit = x%10\n",
    "            half_digit = half_digit*10 + last_digit\n",
    "            x = x//10\n",
    "        return x==half_digit or x ==half_digit//10\n",
    "sol = Solution()\n",
    "\n",
    "def test_memory(func, *args):\n",
    "    tracemalloc.start()   \n",
    "    func(*args)         \n",
    "    current,peak = tracemalloc.get_traced_memory()\n",
    "    tracemalloc.stop()   \n",
    "    return peak / 1024  \n",
    "\n",
    "\n",
    "print(\"Memory used:\", test_memory(sol.isPalindrome, 123454321), \"KB\")\n",
    "print(\"Memory used:\", test_memory(sol.isPalindrome, 1221), \"KB\")\n",
    "print(\"Memory used:\", test_memory(sol.isPalindrome, 0), \"KB\")\n",
    "print(\"Memory used:\", test_memory(sol.isPalindrome, -10), \"KB\")\n",
    "print(\"Memory used:\", test_memory(sol.isPalindrome, 10), \"KB\")     "
   ]
  },
  {
   "cell_type": "code",
   "execution_count": 4,
   "id": "3522b48c",
   "metadata": {},
   "outputs": [
    {
     "name": "stdout",
     "output_type": "stream",
     "text": [
      "12\n"
     ]
    }
   ],
   "source": [
    "x = int('012')\n",
    "print(x)"
   ]
  },
  {
   "cell_type": "code",
   "execution_count": 8,
   "id": "5cdcc911",
   "metadata": {},
   "outputs": [
    {
     "name": "stdout",
     "output_type": "stream",
     "text": [
      "1\n",
      "1\n",
      "12\n"
     ]
    }
   ],
   "source": [
    "digit = 121%10\n",
    "reversed_half = digit \n",
    "x = 121//10\n",
    "\n",
    "print(digit)\n",
    "print(reversed_half)\n",
    "print(x)"
   ]
  },
  {
   "cell_type": "code",
   "execution_count": 16,
   "id": "d569bdb6",
   "metadata": {},
   "outputs": [
    {
     "name": "stdout",
     "output_type": "stream",
     "text": [
      "1\n",
      "1212\n",
      "12\n",
      "121\n",
      "121\n",
      "12\n"
     ]
    },
    {
     "data": {
      "text/plain": [
       "True"
      ]
     },
     "execution_count": 16,
     "metadata": {},
     "output_type": "execute_result"
    }
   ],
   "source": [
    "# Find Half of the Number\n",
    "\n",
    "import re\n",
    "\n",
    "\n",
    "x = 12121\n",
    "reversed_half=0\n",
    "while x > reversed_half:\n",
    "    digit = x % 10\n",
    "    reversed_half=reversed_half*10 + digit \n",
    "    print(reversed_half)\n",
    "    x = x // 10\n",
    "    print(x)\n",
    "x== reversed_half    or reversed_half//10==x\n",
    "    "
   ]
  },
  {
   "cell_type": "code",
   "execution_count": null,
   "id": "9ffa82c6",
   "metadata": {},
   "outputs": [],
   "source": []
  }
 ],
 "metadata": {
  "kernelspec": {
   "display_name": "Python 3",
   "language": "python",
   "name": "python3"
  },
  "language_info": {
   "codemirror_mode": {
    "name": "ipython",
    "version": 3
   },
   "file_extension": ".py",
   "mimetype": "text/x-python",
   "name": "python",
   "nbconvert_exporter": "python",
   "pygments_lexer": "ipython3",
   "version": "3.13.3"
  }
 },
 "nbformat": 4,
 "nbformat_minor": 5
}
