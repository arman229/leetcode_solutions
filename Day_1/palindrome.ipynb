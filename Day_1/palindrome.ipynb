{
 "cells": [
  {
   "cell_type": "markdown",
   "id": "310c72e1",
   "metadata": {},
   "source": []
  },
  {
   "cell_type": "code",
   "execution_count": 7,
   "id": "c08d6896",
   "metadata": {},
   "outputs": [
    {
     "name": "stdout",
     "output_type": "stream",
     "text": [
      "True\n"
     ]
    }
   ],
   "source": [
    "class Solution(object):\n",
    "    def isPalindrome(self, x):\n",
    "        \"\"\"\n",
    "        :type x: int\n",
    "        :rtype: bool\n",
    "        \"\"\"\n",
    "        if x<0 or (x%10==0 and x!=0):\n",
    "            return False\n",
    "        half_digit = 0 \n",
    "        while x > half_digit:\n",
    "            last_digit = x%10\n",
    "            half_digit = half_digit*10 + last_digit \n",
    "            x//=10\n",
    "        return half_digit == x or x ==half_digit//10\n",
    "sol = Solution()\n",
    "print(sol.isPalindrome(121)) "
   ]
  },
  {
   "cell_type": "code",
   "execution_count": 2,
   "id": "25e16203",
   "metadata": {},
   "outputs": [],
   "source": [
    " \n",
    "class Solution(object):\n",
    "    def isPalindrome(self, x):\n",
    "        \"\"\"\n",
    "            :type x: int\n",
    "            :rtype: bool\n",
    "        \"\"\"\n",
    "        string_x = str(x)\n",
    "        if string_x == string_x[::-1]:\n",
    "            return True\n",
    "        else:\n",
    "            return False\n",
    "        \n",
    "       \n",
    "sol = Solution()\n",
    "\n",
    " "
   ]
  }
 ],
 "metadata": {
  "kernelspec": {
   "display_name": "Python 3",
   "language": "python",
   "name": "python3"
  },
  "language_info": {
   "codemirror_mode": {
    "name": "ipython",
    "version": 3
   },
   "file_extension": ".py",
   "mimetype": "text/x-python",
   "name": "python",
   "nbconvert_exporter": "python",
   "pygments_lexer": "ipython3",
   "version": "3.13.3"
  }
 },
 "nbformat": 4,
 "nbformat_minor": 5
}
