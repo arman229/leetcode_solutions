{
 "cells": [
  {
   "cell_type": "code",
   "execution_count": 23,
   "id": "af4ecc6d",
   "metadata": {},
   "outputs": [
    {
     "name": "stdout",
     "output_type": "stream",
     "text": [
      "False\n"
     ]
    }
   ],
   "source": [
    "class Solution(object):\n",
    "    def isAnagram(self, s, t):\n",
    "        \"\"\"\n",
    "        :type s: str\n",
    "        :type t: str\n",
    "        :rtype: bool\n",
    "        \"\"\"\n",
    "        hast_map = {}\n",
    "        if len(s) != len(t):\n",
    "            return False\n",
    "        for ch in s:\n",
    "            hast_map[ch]=hast_map.get(ch,0) + 1\n",
    "        for ch in t:\n",
    "            if ch not in hast_map or hast_map[ch] == 0 :\n",
    "                return False\n",
    "            hast_map[ch]-=1\n",
    "        return True\n",
    "      \n",
    "    \n",
    "sol = Solution()\n",
    "s='ttas'\n",
    "t = 'tat'\n",
    "print(sol.isAnagram(s,t))"
   ]
  },
  {
   "cell_type": "code",
   "execution_count": 17,
   "id": "61a1150a",
   "metadata": {},
   "outputs": [],
   "source": [
    "count ={'s':2}\n",
    "for ch in 't':\n",
    "    if ch not in count or count[ch] == 0:\n",
    "        break\n",
    "        print('hi')\n",
    "    count[ch] -= 1"
   ]
  },
  {
   "cell_type": "code",
   "execution_count": 6,
   "id": "6c825860",
   "metadata": {},
   "outputs": [
    {
     "name": "stdout",
     "output_type": "stream",
     "text": [
      "2\n"
     ]
    },
    {
     "data": {
      "text/plain": [
       "2"
      ]
     },
     "execution_count": 6,
     "metadata": {},
     "output_type": "execute_result"
    }
   ],
   "source": [
    "def main():\n",
    "    for i in [2,3,5]:\n",
    "        print(i)\n",
    "        return i \n",
    "    print('After for loop')\n",
    "main()"
   ]
  },
  {
   "cell_type": "code",
   "execution_count": 5,
   "id": "e9cbbfa4",
   "metadata": {},
   "outputs": [
    {
     "name": "stdout",
     "output_type": "stream",
     "text": [
      "2\n",
      "After for loop\n"
     ]
    }
   ],
   "source": [
    "def main():\n",
    "    for i in [2,3,5]:\n",
    "        print(i)\n",
    "        break\n",
    "    print('After for loop')\n",
    "main()"
   ]
  },
  {
   "cell_type": "code",
   "execution_count": null,
   "id": "fa9edec2",
   "metadata": {},
   "outputs": [],
   "source": []
  }
 ],
 "metadata": {
  "kernelspec": {
   "display_name": "Python 3",
   "language": "python",
   "name": "python3"
  },
  "language_info": {
   "codemirror_mode": {
    "name": "ipython",
    "version": 3
   },
   "file_extension": ".py",
   "mimetype": "text/x-python",
   "name": "python",
   "nbconvert_exporter": "python",
   "pygments_lexer": "ipython3",
   "version": "3.13.3"
  }
 },
 "nbformat": 4,
 "nbformat_minor": 5
}
