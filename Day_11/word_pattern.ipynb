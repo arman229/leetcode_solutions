{
 "cells": [
  {
   "cell_type": "code",
   "execution_count": null,
   "id": "007b4119",
   "metadata": {},
   "outputs": [
    {
     "name": "stdout",
     "output_type": "stream",
     "text": [
      "False\n"
     ]
    }
   ],
   "source": [
    "class Solution(object):\n",
    "    def wordPattern(self, pattern, s):\n",
    "        \"\"\"\n",
    "        :type pattern: str\n",
    "        :type s: str\n",
    "        :rtype: bool\n",
    "        \"\"\"\n",
    "        s_list = s.split()\n",
    "        p_len = len(pattern)\n",
    "        s_len = len(s_list)\n",
    "        mapping= {}\n",
    "        if p_len != s_len:\n",
    "            return False\n",
    "        for index,i in enumerate(pattern):\n",
    "            if i not in mapping :\n",
    "                mapping[i]=s_list[index]\n",
    "            elif i in mapping and mapping[i] !=s_list[index]:\n",
    "                return False\n",
    "            else:\n",
    "                continue\n",
    "        return True\n",
    "    \n",
    "s = \"dog dog dog dog\"   \n",
    "pattern =\"abba\"\n",
    "sol = Solution()\n",
    "print(sol.wordPattern(pattern,s))"
   ]
  },
  {
   "cell_type": "code",
   "execution_count": 51,
   "id": "45a81c71",
   "metadata": {},
   "outputs": [
    {
     "name": "stdout",
     "output_type": "stream",
     "text": [
      "False\n"
     ]
    }
   ],
   "source": [
    "class Solution(object):\n",
    "    def wordPattern(self, pattern, s):\n",
    "        \"\"\"\n",
    "        :type pattern: str\n",
    "        :type s: str\n",
    "        :rtype: bool\n",
    "        \"\"\"\n",
    "        s_list = s.split()\n",
    "        p_len = len(pattern)\n",
    "        s_len = len(s_list)\n",
    "      \n",
    "        if p_len != s_len:\n",
    "            return False\n",
    "        wtop_map = {}\n",
    "        ptow_map={}\n",
    "        \n",
    "        for pa,si in zip(pattern,s_list):\n",
    "            if pa in ptow_map and ptow_map[pa] !=si:\n",
    "                return False\n",
    "            if si in wtop_map and wtop_map[si] !=pa:\n",
    "                return False\n",
    "            \n",
    "            ptow_map[pa]=si\n",
    "            wtop_map[si]=pa\n",
    "            \n",
    "        return True\n",
    "            \n",
    "    \n",
    "pattern =\"aaa\"\n",
    "s = \"aa aa aa aa\"   \n",
    "sol = Solution()\n",
    "print(sol.wordPattern(pattern,s))"
   ]
  },
  {
   "cell_type": "code",
   "execution_count": null,
   "id": "f43e89b4",
   "metadata": {},
   "outputs": [],
   "source": []
  }
 ],
 "metadata": {
  "kernelspec": {
   "display_name": "Python 3",
   "language": "python",
   "name": "python3"
  },
  "language_info": {
   "codemirror_mode": {
    "name": "ipython",
    "version": 3
   },
   "file_extension": ".py",
   "mimetype": "text/x-python",
   "name": "python",
   "nbconvert_exporter": "python",
   "pygments_lexer": "ipython3",
   "version": "3.13.3"
  }
 },
 "nbformat": 4,
 "nbformat_minor": 5
}
