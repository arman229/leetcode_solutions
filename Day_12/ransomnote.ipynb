{
 "cells": [
  {
   "cell_type": "markdown",
   "id": "1dc03c34",
   "metadata": {},
   "source": [
    "## 383. Ransom Note  \n",
    "\n",
    "Given two strings `ransomNote` and `magazine`, return `true` if `ransomNote` can be constructed by using the letters from `magazine` and `false` otherwise.  \n",
    "Each letter in `magazine` can only be used once in `ransomNote`.\n",
    "\n",
    "---\n",
    "\n",
    "### Example 1:\n",
    "**Input:**  \n",
    "`ransomNote = \"a\"`, `magazine = \"b\"`  \n",
    "**Output:**  \n",
    "`false`\n",
    "\n",
    "---\n",
    "\n",
    "### Example 2:\n",
    "**Input:**  \n",
    "`ransomNote = \"aa\"`, `magazine = \"ab\"`  \n",
    "**Output:**  \n",
    "`false`\n",
    "\n",
    "---\n",
    "\n",
    "### Example 3:\n",
    "**Input:**  \n",
    "`ransomNote = \"aa\"`, `magazine = \"aab\"`  \n",
    "**Output:**  \n",
    "`true`\n",
    "\n",
    "---\n",
    "\n",
    "### Constraints:\n",
    "- `1 <= ransomNote.length, magazine.length <= 10^5`  \n",
    "- `ransomNote` and `magazine` consist of lowercase English letters.  \n"
   ]
  },
  {
   "cell_type": "code",
   "execution_count": null,
   "id": "564d0c80",
   "metadata": {},
   "outputs": [
    {
     "name": "stdout",
     "output_type": "stream",
     "text": [
      "False\n"
     ]
    }
   ],
   "source": [
    "class Solution(object):\n",
    "    def canConstruct(self, ransomNote, magazine):\n",
    "        \"\"\"\n",
    "        :type ransomNote: str\n",
    "        :type magazine: str\n",
    "        :rtype: bool\n",
    "        \"\"\"\n",
    "        mag_dict={}\n",
    "        for i in magazine:\n",
    "            if i in mag_dict:\n",
    "                mag_dict[i] +=1\n",
    "            else:\n",
    "                mag_dict[i]=1\n",
    "        for i in ransomNote:\n",
    "            if i in mag_dict and mag_dict[i] >0:\n",
    "                mag_dict[i] -=1\n",
    "            else:\n",
    "                return False\n",
    "        return True\n",
    "            \n",
    "        \n",
    "        \n",
    "sol = Solution()\n",
    "print(sol.canConstruct(\"a\", \"b\"))  "
   ]
  },
  {
   "cell_type": "code",
   "execution_count": 2,
   "id": "0fbe270b",
   "metadata": {},
   "outputs": [
    {
     "name": "stdout",
     "output_type": "stream",
     "text": [
      "False\n"
     ]
    }
   ],
   "source": [
    "class Solution(object):\n",
    "    def canConstruct(self, ransomNote, magazine):\n",
    "        \"\"\"\n",
    "        :type ransomNote: str\n",
    "        :type magazine: str\n",
    "        :rtype: bool\n",
    "        \"\"\"\n",
    "        mag_dict={}\n",
    "        for i in magazine:\n",
    "            mag_dict[i] = mag_dict.get(i,0) + 1\n",
    "                \n",
    "                \n",
    "        for i in ransomNote:\n",
    "            if i in mag_dict and mag_dict[i] >0:\n",
    "                mag_dict[i] -=1\n",
    "            else:\n",
    "                return False\n",
    "        return True\n",
    "            \n",
    "        \n",
    "        \n",
    "sol = Solution()\n",
    "print(sol.canConstruct(\"a\", \"b\"))  # False"
   ]
  }
 ],
 "metadata": {
  "kernelspec": {
   "display_name": "Python 3",
   "language": "python",
   "name": "python3"
  },
  "language_info": {
   "codemirror_mode": {
    "name": "ipython",
    "version": 3
   },
   "file_extension": ".py",
   "mimetype": "text/x-python",
   "name": "python",
   "nbconvert_exporter": "python",
   "pygments_lexer": "ipython3",
   "version": "3.13.3"
  }
 },
 "nbformat": 4,
 "nbformat_minor": 5
}
