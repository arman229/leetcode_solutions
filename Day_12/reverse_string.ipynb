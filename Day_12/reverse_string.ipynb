{
 "cells": [
  {
   "cell_type": "markdown",
   "id": "51e0701c",
   "metadata": {},
   "source": [
    "## 344. Reverse String  \n",
    "\n",
    "---\n",
    "\n",
    "Write a function that reverses a string.  \n",
    "The input string is given as an array of characters `s`.\n",
    "\n",
    "You must do this by modifying the input array **in-place** with **O(1)** extra memory.  \n",
    "\n",
    "---\n",
    "\n",
    "### Example 1\n",
    "**Input:**  \n",
    "`s = [\"h\",\"e\",\"l\",\"l\",\"o\"]`  \n",
    "**Output:**  \n",
    "`[\"o\",\"l\",\"l\",\"e\",\"h\"]`  \n",
    "\n",
    "---\n",
    "\n",
    "### Example 2\n",
    "**Input:**  \n",
    "`s = [\"H\",\"a\",\"n\",\"n\",\"a\",\"h\"]`  \n",
    "**Output:**  \n",
    "`[\"h\",\"a\",\"n\",\"n\",\"a\",\"H\"]`  \n",
    "\n",
    "---\n",
    "\n",
    "### Constraints\n",
    "- `1 <= s.length <= 10^5`  \n",
    "- `s[i]` is a printable ASCII character.  \n"
   ]
  },
  {
   "cell_type": "code",
   "execution_count": 6,
   "id": "b812c99a",
   "metadata": {},
   "outputs": [
    {
     "name": "stdout",
     "output_type": "stream",
     "text": [
      "None\n"
     ]
    }
   ],
   "source": [
    "class Solution(object):\n",
    "    def reverseString(self, s):\n",
    "        \"\"\"\n",
    "        :type s: List[str]\n",
    "        :rtype: None Do not return anything, modify s in-place instead.\n",
    "        \"\"\"\n",
    "        left,right = 0,len(s)-1\n",
    "        while left < right:\n",
    "            s[left],s[right] = s[right],s[left]\n",
    "            left +=1\n",
    "            right -=1\n",
    "sol = Solution()\n",
    "original_array = [\"h\",\"e\",\"l\",\"l\",\"o\"]\n",
    "print(sol.reverseString(original_array)) "
   ]
  },
  {
   "cell_type": "code",
   "execution_count": 7,
   "id": "e96bbf2a",
   "metadata": {},
   "outputs": [
    {
     "name": "stdout",
     "output_type": "stream",
     "text": [
      "a\n"
     ]
    }
   ],
   "source": [
    "print(chr(97))"
   ]
  },
  {
   "cell_type": "code",
   "execution_count": 8,
   "id": "3635d603",
   "metadata": {},
   "outputs": [
    {
     "name": "stdout",
     "output_type": "stream",
     "text": [
      "97\n"
     ]
    }
   ],
   "source": [
    "print(ord('a'))"
   ]
  },
  {
   "cell_type": "code",
   "execution_count": null,
   "id": "dc5a2a78",
   "metadata": {},
   "outputs": [],
   "source": []
  }
 ],
 "metadata": {
  "kernelspec": {
   "display_name": "Python 3",
   "language": "python",
   "name": "python3"
  },
  "language_info": {
   "codemirror_mode": {
    "name": "ipython",
    "version": 3
   },
   "file_extension": ".py",
   "mimetype": "text/x-python",
   "name": "python",
   "nbconvert_exporter": "python",
   "pygments_lexer": "ipython3",
   "version": "3.13.3"
  }
 },
 "nbformat": 4,
 "nbformat_minor": 5
}
