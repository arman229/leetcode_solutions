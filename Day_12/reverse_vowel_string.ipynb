{
 "cells": [
  {
   "cell_type": "markdown",
   "id": "457cc7c4",
   "metadata": {},
   "source": [
    "## 345. Reverse Vowels of a String   \n",
    "\n",
    "---\n",
    "\n",
    "Given a string `s`, reverse only all the vowels in the string and return it.  \n",
    "\n",
    "The vowels are `'a'`, `'e'`, `'i'`, `'o'`, and `'u'`, and they can appear in both lowercase and uppercase, more than once.  \n",
    "\n",
    "---\n",
    "\n",
    "### Example 1\n",
    "**Input:**  \n",
    "`s = \"IceCreAm\"`  \n",
    "\n",
    "**Output:**  \n",
    "`\"AceCreIm\"`  \n",
    "\n",
    "**Explanation:**  \n",
    "The vowels in `s` are `['I', 'e', 'e', 'A']`. On reversing the vowels, `s` becomes `\"AceCreIm\"`.  \n",
    "\n",
    "---\n",
    "\n",
    "### Example 2\n",
    "**Input:**  \n",
    "`s = \"leetcode\"`  \n",
    "\n",
    "**Output:**  \n",
    "`\"leotcede\"`  \n",
    "\n",
    "---\n",
    "\n",
    "### Constraints\n",
    "- `1 <= s.length <= 3 * 10^5`  \n",
    "- `s` consists of printable ASCII characters.  \n"
   ]
  },
  {
   "cell_type": "code",
   "execution_count": 5,
   "id": "2e7a6c55",
   "metadata": {},
   "outputs": [
    {
     "name": "stdout",
     "output_type": "stream",
     "text": [
      "holle\n"
     ]
    }
   ],
   "source": [
    " \n",
    "\n",
    "class Solution(object):\n",
    "    def reverseVowels(self, s):\n",
    "        \"\"\"\n",
    "        :type s: str\n",
    "        :rtype: str\n",
    "        \"\"\"\n",
    "        vowel_set = set(['a','e','i','o','u','A','E','I','O','U'])\n",
    "        i , n = 0, len(s)-1\n",
    "        s = list(s)\n",
    "        while i < n:\n",
    "            if s[i] not in vowel_set:\n",
    "                i += 1\n",
    "            if s[n] not in vowel_set:\n",
    "                n -=1\n",
    "            if s[i] in vowel_set and s[n] in vowel_set:\n",
    "                s[i],s[n]=s[n],s[i]\n",
    "                i +=1\n",
    "                n -=1\n",
    "        return ''.join(s)\n",
    "        \n",
    "sol = Solution()\n",
    "print(sol.reverseVowels(\"hello\"))       \n",
    "        "
   ]
  }
 ],
 "metadata": {
  "kernelspec": {
   "display_name": "Python 3",
   "language": "python",
   "name": "python3"
  },
  "language_info": {
   "codemirror_mode": {
    "name": "ipython",
    "version": 3
   },
   "file_extension": ".py",
   "mimetype": "text/x-python",
   "name": "python",
   "nbconvert_exporter": "python",
   "pygments_lexer": "ipython3",
   "version": "3.13.3"
  }
 },
 "nbformat": 4,
 "nbformat_minor": 5
}
