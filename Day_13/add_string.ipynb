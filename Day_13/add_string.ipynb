{
 "cells": [
  {
   "cell_type": "markdown",
   "id": "cac80c45",
   "metadata": {},
   "source": [
    "## Add Strings   \n",
    "---\n",
    "\n",
    "Given two non-negative integers, `num1` and `num2` represented as strings, return the sum of `num1` and `num2` as a string.  \n",
    "\n",
    "You must solve the problem **without** using any built-in library for handling large integers (such as `BigInteger`).  \n",
    "You must also **not convert** the inputs to integers directly.  \n",
    "\n",
    "---\n",
    "\n",
    "### Example 1\n",
    "**Input:**  \n",
    "`num1 = \"11\"`, `num2 = \"123\"`  \n",
    "\n",
    "**Output:**  \n",
    "`\"134\"`  \n",
    "\n",
    "---\n",
    "\n",
    "### Example 2\n",
    "**Input:**  \n",
    "`num1 = \"456\"`, `num2 = \"77\"`  \n",
    "\n",
    "**Output:**  \n",
    "`\"533\"`  \n",
    "\n",
    "---\n",
    "\n",
    "### Example 3\n",
    "**Input:**  \n",
    "`num1 = \"0\"`, `num2 = \"0\"`  \n",
    "\n",
    "**Output:**  \n",
    "`\"0\"`  \n",
    "\n",
    "---\n",
    "\n",
    "### Constraints\n",
    "- `1 <= num1.length, num2.length <= 10^4`  \n",
    "- `num1` and `num2` consist of only digits.  \n",
    "- `num1` and `num2` don't have any leading zeros except for the zero itself.  \n"
   ]
  },
  {
   "cell_type": "code",
   "execution_count": 7,
   "id": "c12f85b4",
   "metadata": {},
   "outputs": [
    {
     "name": "stdout",
     "output_type": "stream",
     "text": [
      "134\n"
     ]
    }
   ],
   "source": [
    "class Solution(object):\n",
    "    def addStrings(self, num1, num2):\n",
    "        \"\"\"\n",
    "        :type num1: str\n",
    "        :type num2: str\n",
    "        :rtype: str\n",
    "        \"\"\"\n",
    "        i ,j = len(num1) - 1 , len(num2) - 1\n",
    "        carry = 0\n",
    "        resp = []\n",
    "        while i>=0 or j>=0 or carry:\n",
    "            x = num1[i] if i >= 0 else 0 \n",
    "            y = num2[j] if j >= 0 else 0\n",
    "            total = int(x) + int(y) + carry\n",
    "            resp.append(str(total % 10))\n",
    "            carry = total // 10\n",
    "            i -= 1\n",
    "            j -= 1\n",
    "        return ''.join(reversed(resp))\n",
    "      \n",
    "      \n",
    "        \n",
    "sol = Solution()\n",
    "num1 = \"11\"\n",
    "num2 = \"123\"\n",
    "print(sol.addStrings(num1,num2))        "
   ]
  },
  {
   "cell_type": "code",
   "execution_count": 11,
   "id": "18f27260",
   "metadata": {},
   "outputs": [
    {
     "name": "stdout",
     "output_type": "stream",
     "text": [
      "134\n"
     ]
    }
   ],
   "source": [
    "class Solution(object):\n",
    "    def addStrings(self, num1, num2):\n",
    "        \"\"\"\n",
    "        :type num1: str\n",
    "        :type num2: str\n",
    "        :rtype: str\n",
    "        \"\"\"\n",
    "        i ,j = len(num1) - 1 , len(num2) - 1\n",
    "        carry = 0\n",
    "        resp = []\n",
    "        while i>=0 or j>=0 or carry:\n",
    "            x = ord(num1[i]) - ord('0') if i >= 0 else 0 \n",
    "            y = ord(num2[j])- ord('0') if j >= 0 else 0\n",
    "            total = x + y + carry\n",
    "            resp.append(chr((total % 10) + ord('0')))\n",
    "            carry = total // 10\n",
    "            i -= 1\n",
    "            j -= 1\n",
    "        return ''.join(reversed(resp))\n",
    "      \n",
    "      \n",
    "        \n",
    "sol = Solution()\n",
    "num1 = \"11\"\n",
    "num2 = \"123\"\n",
    "print(sol.addStrings(num1,num2))        "
   ]
  },
  {
   "cell_type": "code",
   "execution_count": null,
   "id": "0d58fec4",
   "metadata": {},
   "outputs": [],
   "source": []
  }
 ],
 "metadata": {
  "kernelspec": {
   "display_name": "Python 3",
   "language": "python",
   "name": "python3"
  },
  "language_info": {
   "codemirror_mode": {
    "name": "ipython",
    "version": 3
   },
   "file_extension": ".py",
   "mimetype": "text/x-python",
   "name": "python",
   "nbconvert_exporter": "python",
   "pygments_lexer": "ipython3",
   "version": "3.13.3"
  }
 },
 "nbformat": 4,
 "nbformat_minor": 5
}
