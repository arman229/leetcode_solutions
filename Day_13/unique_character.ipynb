{
 "cells": [
  {
   "cell_type": "markdown",
   "id": "4d3cb901",
   "metadata": {},
   "source": [
    "## First Unique Character in a String  \n",
    "\n",
    "Given a string `s`, find the first non-repeating character in it and return its index.  \n",
    "If it does not exist, return `-1`.  \n",
    "\n",
    "---\n",
    "\n",
    "### Example 1\n",
    "**Input:**  \n",
    "`s = \"leetcode\"`  \n",
    "\n",
    "**Output:**  \n",
    "`0`  \n",
    "\n",
    "**Explanation:**  \n",
    "The character `'l'` at index `0` is the first character that does not occur at any other index.  \n",
    "\n",
    "---\n",
    "\n",
    "### Example 2\n",
    "**Input:**  \n",
    "`s = \"loveleetcode\"`  \n",
    "\n",
    "**Output:**  \n",
    "`2`  \n",
    "\n",
    "---\n",
    "\n",
    "### Example 3\n",
    "**Input:**  \n",
    "`s = \"aabb\"`  \n",
    "\n",
    "**Output:**  \n",
    "`-1`  \n",
    "\n",
    "---\n",
    "\n",
    "### Constraints\n",
    "- `1 <= s.length <= 10^5`  \n",
    "- `s` consists of only lowercase English letters.  \n"
   ]
  },
  {
   "cell_type": "code",
   "execution_count": 2,
   "id": "d4521943",
   "metadata": {},
   "outputs": [
    {
     "name": "stdout",
     "output_type": "stream",
     "text": [
      "0\n"
     ]
    }
   ],
   "source": [
    "class Solution(object):\n",
    "    def firstUniqChar(self, s):\n",
    "        \"\"\"\n",
    "        :type s: str\n",
    "        :rtype: int\n",
    "        \"\"\"\n",
    "        unique_dict={}\n",
    "        for i in s:\n",
    "            unique_dict[i]=unique_dict.get(i,0)+1\n",
    "        for i,ch in enumerate(s):\n",
    "            if unique_dict[ch] == 1:\n",
    "                return i\n",
    "        return -1\n",
    "\n",
    "s = \"leetcode\"\n",
    "sol = Solution()\n",
    "print(sol.firstUniqChar(s))"
   ]
  },
  {
   "cell_type": "code",
   "execution_count": null,
   "id": "42a42636",
   "metadata": {},
   "outputs": [],
   "source": []
  }
 ],
 "metadata": {
  "kernelspec": {
   "display_name": "Python 3",
   "language": "python",
   "name": "python3"
  },
  "language_info": {
   "codemirror_mode": {
    "name": "ipython",
    "version": 3
   },
   "file_extension": ".py",
   "mimetype": "text/x-python",
   "name": "python",
   "nbconvert_exporter": "python",
   "pygments_lexer": "ipython3",
   "version": "3.13.3"
  }
 },
 "nbformat": 4,
 "nbformat_minor": 5
}
