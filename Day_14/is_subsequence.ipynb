{
 "cells": [
  {
   "cell_type": "markdown",
   "id": "bdc36999",
   "metadata": {},
   "source": [
    "## Is Subsequence\n",
    "\n",
    "---\n",
    "\n",
    "Given two strings `s` and `t`, return true if `s` is a subsequence of `t`, or false otherwise.\n",
    "\n",
    "A subsequence of a string is a new string that is formed from the original string by deleting some (can be none) of the characters without disturbing the relative positions of the remaining characters. (i.e., `\"ace\"` is a subsequence of `\"abcde\"` while `\"aec\"` is not).\n",
    "\n",
    "--- \n",
    "\n",
    "### Example 1:\n",
    "\n",
    "**Input:**\n",
    "` s = \"abc\", t = \"ahbgdc\" `\n",
    "\n",
    "**Output:** \n",
    "`true`\n",
    "\n",
    "---\n",
    "\n",
    "### Example 2:\n",
    "**Input:**\n",
    "`s = \"axc\", t = \"ahbgdc\"`\n",
    "**Output:** \n",
    "`false`\n",
    " \n",
    "---\n",
    "\n",
    "### Constraints:\n",
    "\n",
    "- `0 <= s.length <= 100`\n",
    "- `0 <= t.length <= 104`\n",
    "- `s and t consist only of lowercase English letters.`\n",
    " \n",
    "---\n",
    "\n",
    "### Follow up:\n",
    " Suppose there are lots of incoming s, say s1, s2, ..., sk where k >= 109, and you want to check one by one to see if t has its subsequence. In this scenario, how would you change your code?"
   ]
  },
  {
   "cell_type": "code",
   "execution_count": null,
   "id": "f0fde26f",
   "metadata": {},
   "outputs": [
    {
     "name": "stdout",
     "output_type": "stream",
     "text": [
      "True\n"
     ]
    }
   ],
   "source": [
    "class Solution(object):\n",
    "    def isSubsequence(self, s, t):\n",
    "        \"\"\"\n",
    "        :type s: str\n",
    "        :type t: str\n",
    "        :rtype: bool\n",
    "        \"\"\"\n",
    "        i,j =0,0\n",
    "        s_len = len(s)\n",
    "        t_len = len(t)\n",
    "        while i < s_len and j < t_len:\n",
    "            if s[i] == t[j]:\n",
    "                i+=1\n",
    "            \n",
    "            j+=1\n",
    "        return i ==s_len\n",
    "    \n",
    "        \n",
    "        \n",
    "sol = Solution()\n",
    "print(sol.isSubsequence(\"abc\", \"ahbgdc\"))"
   ]
  },
  {
   "cell_type": "code",
   "execution_count": null,
   "id": "d4c145ca",
   "metadata": {},
   "outputs": [],
   "source": []
  }
 ],
 "metadata": {
  "kernelspec": {
   "display_name": "Python 3",
   "language": "python",
   "name": "python3"
  },
  "language_info": {
   "codemirror_mode": {
    "name": "ipython",
    "version": 3
   },
   "file_extension": ".py",
   "mimetype": "text/x-python",
   "name": "python",
   "nbconvert_exporter": "python",
   "pygments_lexer": "ipython3",
   "version": "3.13.3"
  }
 },
 "nbformat": 4,
 "nbformat_minor": 5
}
