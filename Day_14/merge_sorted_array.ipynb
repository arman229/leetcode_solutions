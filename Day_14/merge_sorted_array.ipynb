{
 "cells": [
  {
   "cell_type": "markdown",
   "id": "e0d4a80f",
   "metadata": {},
   "source": [
    "## Merge Sorted Array\n",
    " \n",
    "---\n",
    "\n",
    "You are given two integer arrays `nums1` and `nums2`, sorted in non-decreasing order, and two integers `m` and `n`, representing the number of elements in `nums1` and `nums2` respectively.\n",
    "\n",
    "Merge `nums1` and `nums2` into a single array sorted in non-decreasing order.\n",
    "\n",
    "The final sorted array should not be returned by the function, but instead be stored inside the array `nums1`. To accommodate this, `nums1` has a length of `m + n`, where the first `m` elements denote the elements that should be merged, and the last `n` elements are set to `0` and should be ignored. `nums2` has a length of `n`.\n",
    "\n",
    "--- \n",
    "\n",
    "### Example 1:\n",
    "**Input:**\n",
    "`nums1 = [1,2,3,0,0,0], m = 3, nums2 = [2,5,6], n = 3`\n",
    "**Output:**\n",
    "`[1,2,2,3,5,6]`\n",
    "**Explanation:**\n",
    "The arrays we are merging are `[1,2,3]` and `[2,5,6]`.\n",
    "The result of the merge is `[1,2,2,3,5,6]` with the underlined elements coming from nums1.\n",
    "\n",
    "----\n",
    "\n",
    "### Example 2:\n",
    "**Input:** \n",
    "`nums1 = [1], m = 1, nums2 = [], n = 0`\n",
    "**Output:**\n",
    "`[1]`\n",
    "**Explanation:**\n",
    "The arrays we are merging are `[1]` and `[]`.\n",
    "The result of the merge is `[1]`.\n",
    "\n",
    "----\n",
    "\n",
    "### Example 3:\n",
    "**Input:**\n",
    "`nums1 = [0], m = 0, nums2 = [1], n = 1`\n",
    "**Output:**\n",
    "`[1]`\n",
    "**Explanation:**\n",
    "The arrays we are merging are `[]` and `[1]`.\n",
    "The result of the merge is `[1]`.\n",
    "Note that because `m = 0`, there are no elements in `nums1`. The `0` is only there to ensure the merge result can fit in `nums1`.\n",
    " \n",
    "---\n",
    "\n",
    "### Constraints:\n",
    "- `nums1.length == m + n`\n",
    "- `nums2.length == n`\n",
    "- `0 <= m, n <= 200`\n",
    "- `1 <= m + n <= 200`\n",
    "- `-109 <= nums1[i], nums2[j] <= 109`\n",
    " \n",
    "---\n",
    "\n",
    "**Follow up:**\n",
    "Can you come up with an algorithm that runs in O(m + n) time?"
   ]
  },
  {
   "cell_type": "code",
   "execution_count": null,
   "id": "8686601f",
   "metadata": {},
   "outputs": [
    {
     "name": "stdout",
     "output_type": "stream",
     "text": [
      "[1]\n"
     ]
    }
   ],
   "source": [
    "class Solution(object):\n",
    "    def merge(self, nums1, m, nums2, n):\n",
    "        \"\"\"\n",
    "        :type nums1: List[int]\n",
    "        :type m: int\n",
    "        :type nums2: List[int]\n",
    "        :type n: int\n",
    "        :rtype: None Do not return anything, modify nums1 in-place instead.\n",
    "        \"\"\"\n",
    "        i = m - 1\n",
    "        j = n - 1\n",
    "        k = m + n - 1\n",
    "        while i >= 0 and j >= 0:\n",
    "            if nums1[i] > nums2[j]:\n",
    "                nums1[k] = nums1[i]\n",
    "                i-=1\n",
    "            else:\n",
    "                nums1[k] = nums2[j]\n",
    "                j-=1\n",
    "            k-=1\n",
    "        while j >= 0:\n",
    "            nums1[k] = nums2[j]\n",
    "            j -= 1\n",
    "            k -= 1\n",
    "        return nums1\n",
    "sol = Solution()\n",
    "print(sol.merge([0], 0, [1], 1)) "
   ]
  },
  {
   "cell_type": "code",
   "execution_count": null,
   "id": "4f7c027a",
   "metadata": {},
   "outputs": [],
   "source": []
  }
 ],
 "metadata": {
  "kernelspec": {
   "display_name": "Python 3",
   "language": "python",
   "name": "python3"
  },
  "language_info": {
   "codemirror_mode": {
    "name": "ipython",
    "version": 3
   },
   "file_extension": ".py",
   "mimetype": "text/x-python",
   "name": "python",
   "nbconvert_exporter": "python",
   "pygments_lexer": "ipython3",
   "version": "3.13.3"
  }
 },
 "nbformat": 4,
 "nbformat_minor": 5
}
