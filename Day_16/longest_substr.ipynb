{
 "cells": [
  {
   "cell_type": "markdown",
   "id": "183f1856",
   "metadata": {},
   "source": [
    "## Longest Substring Without Repeating Characters   \n",
    "\n",
    "---\n",
    "\n",
    "Given a string `s`, find the length of the longest substring without duplicate characters.  \n",
    "\n",
    "---\n",
    "\n",
    "### Example 1\n",
    "**Input:**  \n",
    "`s = \"abcabcbb\"`  \n",
    "\n",
    "**Output:**  \n",
    "`3`  \n",
    "\n",
    "**Explanation:**  \n",
    "The answer is `\"abc\"`, with the length of `3`.  \n",
    "\n",
    "---\n",
    "\n",
    "### Example 2\n",
    "**Input:**  \n",
    "`s = \"bbbbb\"`  \n",
    "\n",
    "**Output:**  \n",
    "`1`  \n",
    "\n",
    "**Explanation:**  \n",
    "The answer is `\"b\"`, with the length of `1`.  \n",
    "\n",
    "---\n",
    "\n",
    "### Example 3\n",
    "**Input:**  \n",
    "`s = \"pwwkew\"`  \n",
    "\n",
    "**Output:**  \n",
    "`3`  \n",
    "\n",
    "**Explanation:**  \n",
    "The answer is `\"wke\"`, with the length of `3`.  \n",
    "Notice that the answer must be a **substring**.  \n",
    "`\"pwke\"` is a **subsequence**, not a substring.  \n",
    "\n",
    "---\n",
    "\n",
    "### Constraints\n",
    "- `0 <= s.length <= 5 * 10^4`  \n",
    "- `s` consists of English letters, digits, symbols, and spaces.  \n"
   ]
  },
  {
   "cell_type": "code",
   "execution_count": 32,
   "id": "31383080",
   "metadata": {},
   "outputs": [
    {
     "name": "stdout",
     "output_type": "stream",
     "text": [
      "3\n"
     ]
    }
   ],
   "source": [
    "class Solution(object):\n",
    "    def lengthOfLongestSubstring(self, s):\n",
    "        \"\"\"\n",
    "        :type s: str\n",
    "        :rtype: int\n",
    "        \"\"\"\n",
    "        max_value = 0\n",
    "        left_side = 0\n",
    "        mapping_set = set()\n",
    "        for i in range(len(s)):\n",
    "            while s[i] in mapping_set:\n",
    "                mapping_set.remove(s[left_side])\n",
    "                left_side += 1\n",
    "            mapping_set.add(s[i])\n",
    "            if i - left_side + 1 > max_value:\n",
    "                max_value = i - left_side + 1\n",
    "        return max_value\n",
    "\n",
    "sol = Solution()\n",
    " \n",
    "print(sol.lengthOfLongestSubstring(\"pwwkew\"))    \n"
   ]
  },
  {
   "cell_type": "code",
   "execution_count": null,
   "id": "7489bdc2",
   "metadata": {},
   "outputs": [],
   "source": []
  }
 ],
 "metadata": {
  "kernelspec": {
   "display_name": "Python 3",
   "language": "python",
   "name": "python3"
  },
  "language_info": {
   "codemirror_mode": {
    "name": "ipython",
    "version": 3
   },
   "file_extension": ".py",
   "mimetype": "text/x-python",
   "name": "python",
   "nbconvert_exporter": "python",
   "pygments_lexer": "ipython3",
   "version": "3.13.3"
  }
 },
 "nbformat": 4,
 "nbformat_minor": 5
}
