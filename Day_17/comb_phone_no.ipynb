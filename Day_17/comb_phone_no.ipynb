{
 "cells": [
  {
   "cell_type": "markdown",
   "id": "57eeb66d",
   "metadata": {},
   "source": [
    "## 17. Letter Combinations of a Phone Number   \n",
    "\n",
    "Given a string containing digits from `2-9` inclusive, return all possible letter combinations that the number could represent.  \n",
    "Return the answer in **any order**.  \n",
    "\n",
    "A mapping of digits to letters (just like on the telephone buttons) is given below.  \n",
    "Note that `1` does not map to any letters.  \n",
    "\n",
    "---\n",
    "\n",
    "### Example 1\n",
    "**Input:**  \n",
    "`digits = \"23\"`  \n",
    "\n",
    "**Output:**  \n",
    "`[\"ad\",\"ae\",\"af\",\"bd\",\"be\",\"bf\",\"cd\",\"ce\",\"cf\"]`  \n",
    "\n",
    "---\n",
    "\n",
    "### Example 2\n",
    "**Input:**  \n",
    "`digits = \"\"`  \n",
    "\n",
    "**Output:**  \n",
    "`[]`  \n",
    "\n",
    "---\n",
    "\n",
    "### Example 3\n",
    "**Input:**  \n",
    "`digits = \"2\"`  \n",
    "\n",
    "**Output:**  \n",
    "`[\"a\",\"b\",\"c\"]`  \n",
    "\n",
    "---\n",
    "\n",
    "### Constraints\n",
    "- `0 <= digits.length <= 4`  \n",
    "- `digits[i]` is a digit in the range `['2', '9']`.  \n"
   ]
  },
  {
   "cell_type": "code",
   "execution_count": 21,
   "id": "9f1a8d1c",
   "metadata": {},
   "outputs": [
    {
     "name": "stdout",
     "output_type": "stream",
     "text": [
      "['ad', 'ae', 'af', 'bd', 'be', 'bf', 'cd', 'ce', 'cf']\n"
     ]
    }
   ],
   "source": [
    "class Solution(object):\n",
    "    def letterCombinations(self, digits):\n",
    "        \"\"\"\n",
    "        :type digits: str\n",
    "        :rtype: List[str]\n",
    "        \"\"\"\n",
    "        if not digits:\n",
    "            return []\n",
    "        mobile_map = {\"2\":\"abc\",\"3\":\"def\",\"4\":\"ghi\",\"5\":\"jkl\",\"6\":\"mno\",\"7\":\"pqrs\",\"8\":\"tuv\",\"9\":\"wxyz\"}\n",
    "        value_list = []\n",
    "        def backtracking(index,parms):\n",
    "            if len(parms) == len(digits):\n",
    "                return value_list.append(parms)\n",
    "            for i in mobile_map[digits[index]]:\n",
    "                backtracking(index+1,parms+i) \n",
    "        backtracking(0,\"\")        \n",
    "        return value_list\n",
    "        \n",
    "sol = Solution()\n",
    "print(sol.letterCombinations(\"23\"))"
   ]
  },
  {
   "cell_type": "code",
   "execution_count": null,
   "id": "66808069",
   "metadata": {},
   "outputs": [],
   "source": []
  }
 ],
 "metadata": {
  "kernelspec": {
   "display_name": "Python 3",
   "language": "python",
   "name": "python3"
  },
  "language_info": {
   "codemirror_mode": {
    "name": "ipython",
    "version": 3
   },
   "file_extension": ".py",
   "mimetype": "text/x-python",
   "name": "python",
   "nbconvert_exporter": "python",
   "pygments_lexer": "ipython3",
   "version": "3.13.3"
  }
 },
 "nbformat": 4,
 "nbformat_minor": 5
}
