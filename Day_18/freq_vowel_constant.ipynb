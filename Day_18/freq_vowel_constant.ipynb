{
 "cells": [
  {
   "cell_type": "markdown",
   "id": "d1ea02b1",
   "metadata": {},
   "source": [
    "## 3541. Find Most Frequent Vowel and Consonant   \n",
    "---\n",
    "\n",
    "You are given a string `s` consisting of lowercase English letters (`'a'` to `'z'`).  \n",
    "\n",
    "Your task is to:  \n",
    "1. Find the vowel (one of `'a'`, `'e'`, `'i'`, `'o'`, or `'u'`) with the maximum frequency.  \n",
    "2. Find the consonant (all other letters excluding vowels) with the maximum frequency.  \n",
    "3. Return the **sum** of the two frequencies.  \n",
    "\n",
    "**Notes:**  \n",
    "- If multiple vowels or consonants have the same maximum frequency, you may choose any one of them.  \n",
    "- If there are no vowels or no consonants in the string, consider their frequency as `0`.  \n",
    "- The frequency of a letter `x` is the number of times it occurs in the string.  \n",
    "\n",
    "---\n",
    "\n",
    "### Example 1\n",
    "**Input:**  \n",
    "`s = \"successes\"`  \n",
    "\n",
    "**Output:**  \n",
    "`6`  \n",
    "\n",
    "**Explanation:**  \n",
    "- Vowels: `'u'` (1), `'e'` (2) → max = 2  \n",
    "- Consonants: `'s'` (4), `'c'` (2) → max = 4  \n",
    "- Result = 2 + 4 = 6  \n",
    "\n",
    "---\n",
    "\n",
    "### Example 2\n",
    "**Input:**  \n",
    "`s = \"aeiaeia\"`  \n",
    "\n",
    "**Output:**  \n",
    "`3`  \n",
    "\n",
    "**Explanation:**  \n",
    "- Vowels: `'a'` (3), `'e'` (2), `'i'` (2) → max = 3  \n",
    "- Consonants: none → max = 0  \n",
    "- Result = 3 + 0 = 3  \n",
    "\n",
    "---\n",
    "\n",
    "### Constraints\n",
    "- `1 <= s.length <= 100`  \n",
    "- `s` consists of lowercase English letters only.  \n"
   ]
  },
  {
   "cell_type": "code",
   "execution_count": 6,
   "id": "aca5a4cf",
   "metadata": {},
   "outputs": [
    {
     "name": "stdout",
     "output_type": "stream",
     "text": [
      "4\n"
     ]
    }
   ],
   "source": [
    "class Solution(object):\n",
    "    def maxFreqSum(self, s):\n",
    "        \"\"\"\n",
    "        :type s: str\n",
    "        :rtype: int\n",
    "        \"\"\"\n",
    "        vowel_list = ['a','e','i','o','u']\n",
    "        vowel_dict = {}\n",
    "        const_dict = {}\n",
    "        vowel_coun=0\n",
    "        const_coun=0\n",
    "        for item in s:\n",
    "            if  item in vowel_list:\n",
    "                vowel_dict[item]=vowel_dict.get(item,0) + 1\n",
    "                vowel_coun = max(vowel_coun,vowel_dict[item])\n",
    "            else:\n",
    "                const_dict[item] = const_dict.get(item,0) + 1\n",
    "                const_coun = max(const_coun,const_dict[item])\n",
    "        return vowel_coun + const_coun\n",
    "        \n",
    "\n",
    "sol = Solution()\n",
    "print(sol.maxFreqSum(\"abbcdafghij\"))"
   ]
  },
  {
   "cell_type": "code",
   "execution_count": 1,
   "id": "a74dfc01",
   "metadata": {},
   "outputs": [
    {
     "name": "stdout",
     "output_type": "stream",
     "text": [
      "2\n"
     ]
    }
   ],
   "source": [
    "print(max(2,2))"
   ]
  },
  {
   "cell_type": "code",
   "execution_count": null,
   "id": "b22958bb",
   "metadata": {},
   "outputs": [],
   "source": []
  }
 ],
 "metadata": {
  "kernelspec": {
   "display_name": "Python 3",
   "language": "python",
   "name": "python3"
  },
  "language_info": {
   "codemirror_mode": {
    "name": "ipython",
    "version": 3
   },
   "file_extension": ".py",
   "mimetype": "text/x-python",
   "name": "python",
   "nbconvert_exporter": "python",
   "pygments_lexer": "ipython3",
   "version": "3.13.3"
  }
 },
 "nbformat": 4,
 "nbformat_minor": 5
}
