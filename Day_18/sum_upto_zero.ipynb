{
 "cells": [
  {
   "cell_type": "markdown",
   "id": "f8bcde7f",
   "metadata": {},
   "source": [
    "## 1304. Find N Unique Integers Sum up to Zero   \n",
    "---\n",
    "\n",
    "Given an integer `n`, return any array containing `n` unique integers such that they add up to `0`.  \n",
    "\n",
    "---\n",
    "\n",
    "### Example 1\n",
    "**Input:**  \n",
    "`n = 5`  \n",
    "\n",
    "**Output:**  \n",
    "`[-7,-1,1,3,4]`  \n",
    "\n",
    "**Explanation:**  \n",
    "These arrays are also accepted:  \n",
    "- `[-5,-1,1,2,3]`  \n",
    "- `[-3,-1,2,-2,4]`  \n",
    "\n",
    "---\n",
    "\n",
    "### Example 2\n",
    "**Input:**  \n",
    "`n = 3`  \n",
    "\n",
    "**Output:**  \n",
    "`[-1,0,1]`  \n",
    "\n",
    "---\n",
    "\n",
    "### Example 3\n",
    "**Input:**  \n",
    "`n = 1`  \n",
    "\n",
    "**Output:**  \n",
    "`[0]`  \n",
    "\n",
    "---\n",
    "\n",
    "### Constraints\n",
    "- `1 <= n <= 1000`  \n"
   ]
  },
  {
   "cell_type": "code",
   "execution_count": 7,
   "id": "b47e23bb",
   "metadata": {},
   "outputs": [
    {
     "name": "stdout",
     "output_type": "stream",
     "text": [
      "[0, 1, -1, 2, -2]\n"
     ]
    }
   ],
   "source": [
    "class Solution(object):\n",
    "    def sumZero(self, n):\n",
    "        \"\"\"\n",
    "        :type n: int\n",
    "        :rtype: List[int]\n",
    "        \"\"\"\n",
    "        resp = []\n",
    "        if n % 2 == 1:\n",
    "            resp.append(0)\n",
    "        for i in range(1, n // 2 + 1):\n",
    "            resp.append(i)\n",
    "            resp.append(-i)\n",
    "        return resp\n",
    "sol = Solution()\n",
    "print(sol.sumZero(5))"
   ]
  }
 ],
 "metadata": {
  "kernelspec": {
   "display_name": "Python 3",
   "language": "python",
   "name": "python3"
  },
  "language_info": {
   "codemirror_mode": {
    "name": "ipython",
    "version": 3
   },
   "file_extension": ".py",
   "mimetype": "text/x-python",
   "name": "python",
   "nbconvert_exporter": "python",
   "pygments_lexer": "ipython3",
   "version": "3.13.3"
  }
 },
 "nbformat": 4,
 "nbformat_minor": 5
}
