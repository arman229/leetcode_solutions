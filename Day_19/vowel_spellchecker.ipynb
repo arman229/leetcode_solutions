{
 "cells": [
  {
   "cell_type": "code",
   "execution_count": null,
   "id": "f99aeb45",
   "metadata": {},
   "outputs": [],
   "source": [
    "class Solution(object):\n",
    "    def spellchecker(self, wordlist, queries):\n",
    "        \"\"\"\n",
    "        :type wordlist: List[str]\n",
    "        :type queries: List[str]\n",
    "        :rtype: List[str]\n",
    "        \"\"\"\n",
    "        \n",
    "sol = Solution()\n",
    "print(sol.spellchecker([\"KiTe\",\"kite\",\"hare\",\"Hare\"], [\"kite\",\"Kite\",\"KiTe\",\"Hare\",\"HARE\",\"Hear\",\"hear\",\"keti\",\"keet\",\"keto\"]))"
   ]
  },
  {
   "cell_type": "code",
   "execution_count": 1,
   "id": "5262ef2f",
   "metadata": {},
   "outputs": [
    {
     "name": "stdout",
     "output_type": "stream",
     "text": [
      "hello world\n"
     ]
    }
   ],
   "source": [
    "print(\"Hello World\".lower())\n"
   ]
  }
 ],
 "metadata": {
  "kernelspec": {
   "display_name": "Python 3",
   "language": "python",
   "name": "python3"
  },
  "language_info": {
   "codemirror_mode": {
    "name": "ipython",
    "version": 3
   },
   "file_extension": ".py",
   "mimetype": "text/x-python",
   "name": "python",
   "nbconvert_exporter": "python",
   "pygments_lexer": "ipython3",
   "version": "3.13.3"
  }
 },
 "nbformat": 4,
 "nbformat_minor": 5
}
