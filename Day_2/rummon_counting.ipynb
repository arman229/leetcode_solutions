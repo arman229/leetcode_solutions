{
 "cells": [
  {
   "cell_type": "code",
   "execution_count": 2,
   "id": "f988eed1",
   "metadata": {},
   "outputs": [
    {
     "name": "stdout",
     "output_type": "stream",
     "text": [
      "9\n"
     ]
    }
   ],
   "source": [
    " \n",
    "class Solution(object):\n",
    "    def romanToInt(self, s):\n",
    "        \"\"\"\n",
    "        :type s: str\n",
    "        :rtype: int\n",
    "        \"\"\"\n",
    "        mapping_dict = {\"I\":1,\"V\":5,\"X\":10,\"L\":50,\"C\":100,\"D\":500,\"M\":1000}\n",
    "        n=len(s)\n",
    "        value =0\n",
    "        for i in range(n):\n",
    "            current_value = mapping_dict[s[i]]\n",
    "            if i + 1 < n and current_value < mapping_dict[s[i+1]] :\n",
    "                value -= current_value\n",
    "            else:\n",
    "                value += current_value\n",
    "                \n",
    "        return value\n",
    "    \n",
    "print(Solution().romanToInt('IX'))"
   ]
  },
  {
   "cell_type": "code",
   "execution_count": 1,
   "id": "680a0707",
   "metadata": {},
   "outputs": [
    {
     "name": "stdout",
     "output_type": "stream",
     "text": [
      "29\n"
     ]
    }
   ],
   "source": [
    " \n",
    "class Solution(object):\n",
    "    def romanToInt(self, s):\n",
    "        \"\"\"\n",
    "        :type s: str\n",
    "        :rtype: int\n",
    "        \"\"\"\n",
    "        mapping_dict = {\"I\":1,\"V\":5,\"X\":10,\"L\":50,\"C\":100,\"D\":500,\"M\":1000}\n",
    "        \n",
    "        total =0\n",
    "        prev_value=0\n",
    "        for i in reversed(s): \n",
    "            current_value = mapping_dict[i]\n",
    "            if current_value < prev_value:\n",
    "                total -= current_value\n",
    "            else:\n",
    "                total +=current_value\n",
    "            prev_value=current_value\n",
    "        return total\n",
    "    \n",
    "print(Solution().romanToInt('XIXX'))"
   ]
  },
  {
   "cell_type": "code",
   "execution_count": null,
   "id": "5cc8161b",
   "metadata": {},
   "outputs": [],
   "source": []
  }
 ],
 "metadata": {
  "kernelspec": {
   "display_name": "Python 3",
   "language": "python",
   "name": "python3"
  },
  "language_info": {
   "codemirror_mode": {
    "name": "ipython",
    "version": 3
   },
   "file_extension": ".py",
   "mimetype": "text/x-python",
   "name": "python",
   "nbconvert_exporter": "python",
   "pygments_lexer": "ipython3",
   "version": "3.13.3"
  }
 },
 "nbformat": 4,
 "nbformat_minor": 5
}
