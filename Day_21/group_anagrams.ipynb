{
 "cells": [
  {
   "cell_type": "markdown",
   "id": "136338cf",
   "metadata": {},
   "source": [
    " \n",
    "##  Group Anagrams   \n",
    "\n",
    "---\n",
    "\n",
    "Given an array of strings `strs`, group the anagrams together.  \n",
    "You can return the answer in any order.  \n",
    "\n",
    "---\n",
    "\n",
    "### Example 1\n",
    "\n",
    "**Input:**  \n",
    "```\n",
    "\n",
    "strs = [\"eat\",\"tea\",\"tan\",\"ate\",\"nat\",\"bat\"]\n",
    "\n",
    "```\n",
    "\n",
    "**Output:**  \n",
    "```\n",
    "\n",
    "[[\"bat\"],[\"nat\",\"tan\"],[\"ate\",\"eat\",\"tea\"]]\n",
    "\n",
    "```\n",
    "\n",
    "**Explanation:**  \n",
    "- There is no string in `strs` that can be rearranged to form `\"bat\"`.  \n",
    "- The strings `\"nat\"` and `\"tan\"` are anagrams as they can be rearranged to form each other.  \n",
    "- The strings `\"ate\"`, `\"eat\"`, and `\"tea\"` are anagrams as they can be rearranged to form each other.  \n",
    "\n",
    "---\n",
    "\n",
    "### Example 2\n",
    "\n",
    "**Input:**  \n",
    "```\n",
    "\n",
    "strs = [\"\"]\n",
    "\n",
    "```\n",
    "\n",
    "**Output:**  \n",
    "```\n",
    "\n",
    "[[\"\"]]\n",
    "\n",
    "```\n",
    "\n",
    "---\n",
    "\n",
    "### Example 3\n",
    "\n",
    "**Input:**  \n",
    "```\n",
    "\n",
    "strs = [\"a\"]\n",
    "\n",
    "```\n",
    "\n",
    "**Output:**  \n",
    "```\n",
    "\n",
    "[[\"a\"]]\n",
    "\n",
    "```\n",
    "\n",
    "---\n",
    "\n",
    "### Constraints\n",
    "- `1 <= strs.length <= 10^4`  \n",
    "- `0 <= strs[i].length <= 100`  \n",
    "- `strs[i]` consists of lowercase English letters.  \n",
    "```\n",
    "\n",
    " "
   ]
  },
  {
   "cell_type": "code",
   "execution_count": 38,
   "id": "17f57327",
   "metadata": {},
   "outputs": [
    {
     "name": "stdout",
     "output_type": "stream",
     "text": [
      "[['eat', 'tea', 'ate'], ['tan', 'nat'], ['bat']]\n"
     ]
    }
   ],
   "source": [
    "\n",
    "from typing import List\n",
    "\n",
    "class Solution:\n",
    "    def groupAnagrams(self, strs: List[str]) -> List[List[str]]: \n",
    "        test_hast = {}\n",
    "        for i in strs: \n",
    "            sorted_st = \"\".join(sorted(i)) \n",
    "            test_hast.setdefault(sorted_st, []).append(i) \n",
    "        return list(test_hast.values())     \n",
    "        \n",
    "        \n",
    "sol = Solution()\n",
    "Input= [\"eat\",\"tea\",\"tan\",\"ate\",\"nat\",\"bat\"]\n",
    "print(sol.groupAnagrams(Input))\n",
    "        "
   ]
  },
  {
   "cell_type": "code",
   "execution_count": null,
   "id": "aa52c06f",
   "metadata": {},
   "outputs": [],
   "source": []
  }
 ],
 "metadata": {
  "kernelspec": {
   "display_name": "Python 3",
   "language": "python",
   "name": "python3"
  },
  "language_info": {
   "codemirror_mode": {
    "name": "ipython",
    "version": 3
   },
   "file_extension": ".py",
   "mimetype": "text/x-python",
   "name": "python",
   "nbconvert_exporter": "python",
   "pygments_lexer": "ipython3",
   "version": "3.13.3"
  }
 },
 "nbformat": 4,
 "nbformat_minor": 5
}
