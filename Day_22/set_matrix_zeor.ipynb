{
 "cells": [
  {
   "cell_type": "markdown",
   "id": "f20f6890",
   "metadata": {},
   "source": [
    " \n",
    "##  Set Matrix Zeroes  \n",
    "---\n",
    "\n",
    "Given an `m x n` integer matrix `matrix`, if an element is `0`, set its entire row and column to `0`s.  \n",
    "\n",
    "You must do it **in place**.  \n",
    "\n",
    "---\n",
    "\n",
    "### Example 1\n",
    "\n",
    "**Input:**  \n",
    "```\n",
    "\n",
    "matrix = [[1,1,1],[1,0,1],[1,1,1]]\n",
    "\n",
    "```\n",
    "\n",
    "**Output:**  \n",
    "```\n",
    "\n",
    "[[1,0,1],[0,0,0],[1,0,1]]\n",
    "\n",
    "```\n",
    "\n",
    "---\n",
    "\n",
    "### Example 2\n",
    "\n",
    "**Input:**  \n",
    "```\n",
    "\n",
    "matrix = [[0,1,2,0],[3,4,5,2],[1,3,1,5]]\n",
    "\n",
    "```\n",
    "\n",
    "**Output:**  \n",
    "```\n",
    "\n",
    "[[0,0,0,0],[0,4,5,0],[0,3,1,0]]\n",
    "\n",
    "```\n",
    "\n",
    "---\n",
    "\n",
    "### Constraints\n",
    "- `m == matrix.length`  \n",
    "- `n == matrix[0].length`  \n",
    "- `1 <= m, n <= 200`  \n",
    "- `-2^31 <= matrix[i][j] <= 2^31 - 1`  \n",
    "\n",
    "---\n",
    "\n",
    "### Follow Up\n",
    "- A straightforward solution using **O(mn)** space is probably a bad idea.  \n",
    "- A simple improvement uses **O(m + n)** space, but still not the best solution.  \n",
    "- Could you devise a **constant space** solution?  \n",
    "```\n",
    " "
   ]
  },
  {
   "cell_type": "code",
   "execution_count": 11,
   "id": "8824db91",
   "metadata": {},
   "outputs": [
    {
     "name": "stdout",
     "output_type": "stream",
     "text": [
      "[[0, 0, 0, 0], [0, 4, 5, 0], [0, 3, 1, 0]]\n"
     ]
    }
   ],
   "source": [
    "\n",
    "from typing import List\n",
    "\n",
    "class Solution:\n",
    "    def setZeroes(self, matrix: List[List[int]]) -> None:\n",
    "        \"\"\"\n",
    "        Do not return anything, modify matrix in-place instead.\n",
    "        \"\"\"\n",
    "        zero_col = set()\n",
    "        zero_row = set()\n",
    "        m,n = len(matrix), len(matrix[0])\n",
    "        for i in range(m):\n",
    "            for j in range(n):\n",
    "               if matrix[i][j]== 0:\n",
    "                     zero_row.add(i)\n",
    "                     zero_col.add(j)\n",
    "        for i in range(m):\n",
    "            for j in range(n):\n",
    "                if i in zero_row or j in zero_col:\n",
    "                    matrix[i][j] = 0                     \n",
    "        return matrix \n",
    "sol = Solution()\n",
    "matrix = [[0,1,2,0],[3,4,5,2],[1,3,1,5]]\n",
    "print(sol.setZeroes(matrix))\n",
    "\n",
    "        "
   ]
  }
 ],
 "metadata": {
  "kernelspec": {
   "display_name": "Python 3",
   "language": "python",
   "name": "python3"
  },
  "language_info": {
   "codemirror_mode": {
    "name": "ipython",
    "version": 3
   },
   "file_extension": ".py",
   "mimetype": "text/x-python",
   "name": "python",
   "nbconvert_exporter": "python",
   "pygments_lexer": "ipython3",
   "version": "3.13.3"
  }
 },
 "nbformat": 4,
 "nbformat_minor": 5
}
