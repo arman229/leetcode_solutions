{
 "cells": [
  {
   "cell_type": "code",
   "execution_count": 43,
   "id": "45c8252c",
   "metadata": {},
   "outputs": [
    {
     "name": "stdout",
     "output_type": "stream",
     "text": [
      "'s '\n"
     ]
    }
   ],
   "source": [
    "class Solution(object):\n",
    "    def longestCommonPrefix(self, strs):\n",
    "        \"\"\"\n",
    "        :type strs: List[str]\n",
    "        :rtype: str\n",
    "        \"\"\" \n",
    "        n = len(strs) \n",
    "        if n==1:\n",
    "            return strs[0]\n",
    "        \n",
    "        fake_prefix = strs[0]\n",
    "        \n",
    "        for i in strs[1:]:\n",
    "            while not i.startswith(fake_prefix):\n",
    "                fake_prefix=fake_prefix[:-1]\n",
    "                if fake_prefix == \"\":\n",
    "                    return \"\"\n",
    "        return fake_prefix        \n",
    "        \n",
    "sol = Solution()\n",
    "print(f\"{sol.longestCommonPrefix(['s ','s ','s '])!r}\")        \n",
    "        \n",
    "        "
   ]
  },
  {
   "cell_type": "code",
   "execution_count": 32,
   "id": "bb525d6f",
   "metadata": {},
   "outputs": [
    {
     "name": "stdout",
     "output_type": "stream",
     "text": [
      "' '\n"
     ]
    }
   ],
   "source": [
    "strs=[' ']\n",
    "prefix = strs[0]\n",
    "print(f\"{prefix!r}\")"
   ]
  },
  {
   "cell_type": "code",
   "execution_count": 38,
   "id": "2f24891d",
   "metadata": {},
   "outputs": [
    {
     "ename": "IndexError",
     "evalue": "list index out of range",
     "output_type": "error",
     "traceback": [
      "\u001b[31m---------------------------------------------------------------------------\u001b[39m",
      "\u001b[31mIndexError\u001b[39m                                Traceback (most recent call last)",
      "\u001b[36mCell\u001b[39m\u001b[36m \u001b[39m\u001b[32mIn[38]\u001b[39m\u001b[32m, line 2\u001b[39m\n\u001b[32m      1\u001b[39m strs=[]\n\u001b[32m----> \u001b[39m\u001b[32m2\u001b[39m prefix = \u001b[43mstrs\u001b[49m\u001b[43m[\u001b[49m\u001b[32;43m0\u001b[39;49m\u001b[43m]\u001b[49m\n\u001b[32m      3\u001b[39m \u001b[38;5;28mprint\u001b[39m(\u001b[33mf\u001b[39m\u001b[33m\"\u001b[39m\u001b[38;5;132;01m{\u001b[39;00mprefix\u001b[38;5;132;01m!r}\u001b[39;00m\u001b[33m\"\u001b[39m)\n",
      "\u001b[31mIndexError\u001b[39m: list index out of range"
     ]
    }
   ],
   "source": [
    "strs=[]\n",
    "prefix = strs[0]\n",
    "print(f\"{prefix!r}\")"
   ]
  }
 ],
 "metadata": {
  "kernelspec": {
   "display_name": "Python 3",
   "language": "python",
   "name": "python3"
  },
  "language_info": {
   "codemirror_mode": {
    "name": "ipython",
    "version": 3
   },
   "file_extension": ".py",
   "mimetype": "text/x-python",
   "name": "python",
   "nbconvert_exporter": "python",
   "pygments_lexer": "ipython3",
   "version": "3.13.3"
  }
 },
 "nbformat": 4,
 "nbformat_minor": 5
}
