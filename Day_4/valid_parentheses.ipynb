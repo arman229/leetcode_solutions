{
 "cells": [
  {
   "cell_type": "code",
   "execution_count": 2,
   "id": "6ef9172d",
   "metadata": {},
   "outputs": [
    {
     "name": "stdout",
     "output_type": "stream",
     "text": [
      "False\n"
     ]
    }
   ],
   "source": [
    "class Solution(object):\n",
    "    def isValid(self, s):\n",
    "        \"\"\"\n",
    "        :type s: str\n",
    "        :rtype: bool\n",
    "        \"\"\"\n",
    "        stack = []\n",
    "        mapping = {')': '(', '}': '{', ']': '['}\n",
    "\n",
    "        for char in s:\n",
    "            if char in mapping.values():  \n",
    "                stack.append(char)\n",
    "            elif char in mapping:   \n",
    "                if not stack:   \n",
    "                    return False\n",
    "                last_char = stack.pop()\n",
    "            \n",
    "                if mapping[char] != last_char:\n",
    "                    return False\n",
    "            else: \n",
    "                return False\n",
    "        \n",
    "        return not stack   \n",
    "\n",
    "sol = Solution()\n",
    "print(sol.isValid(\"(]\"))"
   ]
  },
  {
   "cell_type": "code",
   "execution_count": 27,
   "id": "d5cce7c1",
   "metadata": {},
   "outputs": [
    {
     "name": "stdout",
     "output_type": "stream",
     "text": [
      "False\n"
     ]
    }
   ],
   "source": [
    "class Solution(object):\n",
    "    def isValid(self, s):\n",
    "        \"\"\"\n",
    "        :type s: str\n",
    "        :rtype: bool\n",
    "        \"\"\"\n",
    "        my_stack = []\n",
    "        opening_brackets = \"[{(\"\n",
    "        closing_brackets = \")}]\"\n",
    "        for current_item in s:\n",
    "            if current_item in opening_brackets:\n",
    "                my_stack.append(current_item)\n",
    "            elif current_item in closing_brackets:\n",
    "                if not my_stack:\n",
    "                    return False\n",
    "                last_item = my_stack.pop()\n",
    "                if (current_item == ')' and last_item !='(') or \\\n",
    "                (current_item == '}' and last_item !='{') or \\\n",
    "                (current_item == ']' and last_item !='[') :\n",
    "                    return False\n",
    "            else:\n",
    "                return False\n",
    "        return not my_stack\n",
    "\n",
    "sol = Solution()\n",
    "print(sol.isValid(\"(]\"))"
   ]
  },
  {
   "cell_type": "code",
   "execution_count": null,
   "id": "993830fb",
   "metadata": {},
   "outputs": [],
   "source": []
  }
 ],
 "metadata": {
  "kernelspec": {
   "display_name": "Python 3",
   "language": "python",
   "name": "python3"
  },
  "language_info": {
   "codemirror_mode": {
    "name": "ipython",
    "version": 3
   },
   "file_extension": ".py",
   "mimetype": "text/x-python",
   "name": "python",
   "nbconvert_exporter": "python",
   "pygments_lexer": "ipython3",
   "version": "3.13.3"
  }
 },
 "nbformat": 4,
 "nbformat_minor": 5
}
