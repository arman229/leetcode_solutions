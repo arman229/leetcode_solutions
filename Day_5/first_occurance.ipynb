{
 "cells": [
  {
   "cell_type": "code",
   "execution_count": 62,
   "id": "f1fa3614",
   "metadata": {},
   "outputs": [
    {
     "name": "stdout",
     "output_type": "stream",
     "text": [
      "2\n"
     ]
    }
   ],
   "source": [
    "class Solution(object):\n",
    "    def strStr(self, haystack, needle):\n",
    "        \"\"\"\n",
    "        :type haystack: str\n",
    "        :type needle: str\n",
    "        :rtype: int\n",
    "        \"\"\"\n",
    "        # haystack = \"sadbutsad\", needle = \"sad\"\n",
    "        \n",
    "        haystack_len=len(haystack)\n",
    "        needle_len=len(needle)\n",
    "        if needle_len == 0:\n",
    "            return -1\n",
    "        for i in range(haystack_len-needle_len+1):\n",
    "            if haystack[i:i+needle_len] == needle:\n",
    "                return i\n",
    "               \n",
    "        else:\n",
    "            return -1\n",
    "sol = Solution()\n",
    "text = \"hello\"\n",
    "sub = \"ll\"\n",
    "print(sol.strStr(text,sub))                \n",
    "                    \n",
    "                    "
   ]
  },
  {
   "cell_type": "code",
   "execution_count": 63,
   "id": "c296b960",
   "metadata": {},
   "outputs": [
    {
     "name": "stdout",
     "output_type": "stream",
     "text": [
      "-1\n"
     ]
    }
   ],
   "source": [
    "\n",
    "def get_index(haystack, needle):\n",
    "    needel_len = len(needle)\n",
    "    haystack_len = len(haystack)\n",
    "     \n",
    "    if needel_len == 0:\n",
    "        return -1\n",
    "    for i in range(haystack_len-needel_len + 1):\n",
    "        for j in range(needel_len):\n",
    "            h = haystack[i+j]\n",
    "            n = needle[j]\n",
    "            if(h!=n):\n",
    "                 break\n",
    "        else:\n",
    "            return i\n",
    "     \n",
    "    return -1    \n",
    "   \n",
    "text = \"ippi\"\n",
    "sub = \"ddddddddd\"\n",
    "print(get_index(text, sub))  # Output: 0\n",
    " \n"
   ]
  },
  {
   "cell_type": "code",
   "execution_count": null,
   "id": "1c7a4433",
   "metadata": {},
   "outputs": [],
   "source": []
  }
 ],
 "metadata": {
  "kernelspec": {
   "display_name": "Python 3",
   "language": "python",
   "name": "python3"
  },
  "language_info": {
   "codemirror_mode": {
    "name": "ipython",
    "version": 3
   },
   "file_extension": ".py",
   "mimetype": "text/x-python",
   "name": "python",
   "nbconvert_exporter": "python",
   "pygments_lexer": "ipython3",
   "version": "3.13.3"
  }
 },
 "nbformat": 4,
 "nbformat_minor": 5
}
