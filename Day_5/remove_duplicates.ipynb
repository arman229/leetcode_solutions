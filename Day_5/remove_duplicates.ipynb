{
 "cells": [
  {
   "cell_type": "code",
   "execution_count": 12,
   "id": "a5094d07",
   "metadata": {},
   "outputs": [
    {
     "name": "stdout",
     "output_type": "stream",
     "text": [
      "[1, 2, 2]\n",
      "2\n"
     ]
    }
   ],
   "source": [
    "class Solution(object):\n",
    "    def removeDuplicates(self, nums):\n",
    "        \"\"\"\n",
    "        :type nums: List[int]\n",
    "        :rtype: int\n",
    "        \"\"\"\n",
    "        new_array = []\n",
    "        for num in nums:\n",
    "            if num in new_array:\n",
    "                continue\n",
    "            else:\n",
    "                new_array.append(num)\n",
    "        for index, value in enumerate(new_array):\n",
    "            nums[index] = value\n",
    "        print(nums)\n",
    "        return len(new_array)\n",
    "\n",
    "\n",
    "sol = Solution()\n",
    "print(sol.removeDuplicates([1, 1, 2]))"
   ]
  },
  {
   "cell_type": "code",
   "execution_count": 11,
   "id": "0dfffe88",
   "metadata": {},
   "outputs": [
    {
     "name": "stdout",
     "output_type": "stream",
     "text": [
      "[1, 2, 2]\n",
      "2\n"
     ]
    }
   ],
   "source": [
    "class Solution(object):\n",
    "    def removeDuplicates(self, nums):\n",
    "        \"\"\"\n",
    "        :type nums: List[int]\n",
    "        :rtype: int\n",
    "        \"\"\"\n",
    "        new_array = []\n",
    "        for num in nums: \n",
    "            if not new_array or num != new_array[-1]:\n",
    "                new_array.append(num) \n",
    "        for i, val in enumerate(new_array):\n",
    "            nums[i] = val\n",
    "        print(nums)\n",
    "        return len(new_array)\n",
    "sol = Solution()\n",
    "print(sol.removeDuplicates([1,1,2]))  "
   ]
  },
  {
   "cell_type": "code",
   "execution_count": 16,
   "id": "b3e76bd2",
   "metadata": {},
   "outputs": [
    {
     "name": "stdout",
     "output_type": "stream",
     "text": [
      "[1, 2, 2]\n",
      "2\n"
     ]
    }
   ],
   "source": [
    "class Solution(object):\n",
    "    def removeDuplicates(self, nums):\n",
    "        \"\"\"\n",
    "        :type nums: List[int]\n",
    "        :rtype: int\n",
    "        \"\"\"\n",
    "        new_index = 1\n",
    "        for i in range(1,len(nums)):\n",
    "            if nums[i]  != nums[i-1]:\n",
    "                nums[new_index]=nums[i]\n",
    "                new_index +=1\n",
    "        \n",
    "        return new_index\n",
    "\n",
    "print(sol.removeDuplicates([1,1,2]))  "
   ]
  },
  {
   "cell_type": "code",
   "execution_count": null,
   "id": "a0846b1c",
   "metadata": {},
   "outputs": [],
   "source": []
  }
 ],
 "metadata": {
  "kernelspec": {
   "display_name": "Python 3",
   "language": "python",
   "name": "python3"
  },
  "language_info": {
   "codemirror_mode": {
    "name": "ipython",
    "version": 3
   },
   "file_extension": ".py",
   "mimetype": "text/x-python",
   "name": "python",
   "nbconvert_exporter": "python",
   "pygments_lexer": "ipython3",
   "version": "3.13.3"
  }
 },
 "nbformat": 4,
 "nbformat_minor": 5
}
