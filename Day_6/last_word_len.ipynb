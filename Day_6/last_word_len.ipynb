{
 "cells": [
  {
   "cell_type": "code",
   "execution_count": 5,
   "id": "4584a32d",
   "metadata": {},
   "outputs": [
    {
     "name": "stdout",
     "output_type": "stream",
     "text": [
      "6\n"
     ]
    }
   ],
   "source": [
    "class Solution(object): \n",
    "    def lengthOfLastWord(self, s):\n",
    "        \"\"\"\n",
    "        :type s: str\n",
    "        :rtype: int\n",
    "        \"\"\"\n",
    "        clean_string = s.strip()\n",
    "        array_string=clean_string.split()\n",
    "        \n",
    "        last_word_len = len(array_string[-1])\n",
    "        return last_word_len\n",
    "    \n",
    "sol = Solution()\n",
    "\n",
    "print(sol.lengthOfLastWord('i am arman ashraf'))        "
   ]
  },
  {
   "cell_type": "code",
   "execution_count": 3,
   "id": "3af0fc71",
   "metadata": {},
   "outputs": [
    {
     "name": "stdout",
     "output_type": "stream",
     "text": [
      "['i', 'am', 'arman']\n"
     ]
    }
   ],
   "source": [
    "strings = 'i am arman'\n",
    "print(strings.split())"
   ]
  },
  {
   "cell_type": "code",
   "execution_count": null,
   "id": "c209488f",
   "metadata": {},
   "outputs": [],
   "source": []
  }
 ],
 "metadata": {
  "kernelspec": {
   "display_name": "Python 3",
   "language": "python",
   "name": "python3"
  },
  "language_info": {
   "codemirror_mode": {
    "name": "ipython",
    "version": 3
   },
   "file_extension": ".py",
   "mimetype": "text/x-python",
   "name": "python",
   "nbconvert_exporter": "python",
   "pygments_lexer": "ipython3",
   "version": "3.13.3"
  }
 },
 "nbformat": 4,
 "nbformat_minor": 5
}
