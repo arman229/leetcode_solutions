{
 "cells": [
  {
   "cell_type": "code",
   "execution_count": null,
   "id": "246b7fbe",
   "metadata": {},
   "outputs": [],
   "source": [
    "class Solution(object):\n",
    "    def plusOne(self, digits):\n",
    "        \"\"\"\n",
    "        :type digits: List[int]\n",
    "        :rtype: List[int]\n",
    "        \"\"\"\n",
    "        num = \"\".join(str(i) for i in digits)\n",
    "        num_int = int(num) + 1\n",
    "        final_resp = [i for i in str(num_int)]\n",
    "        return final_resp"
   ]
  },
  {
   "cell_type": "code",
   "execution_count": 16,
   "id": "6bbba222",
   "metadata": {},
   "outputs": [
    {
     "name": "stdout",
     "output_type": "stream",
     "text": [
      "[1, 2, 3, 5, 0, 0]\n"
     ]
    }
   ],
   "source": [
    "class Solution(object):\n",
    "    def plusOne(self, digits):\n",
    "        \"\"\"\n",
    "        :type digits: List[int]\n",
    "        :rtype: List[int]\n",
    "        \"\"\"\n",
    "        for i in range(len(digits) - 1, -1, -1):\n",
    "            if digits[i] < 9:\n",
    "                digits[i] += 1\n",
    "                return digits\n",
    "            digits[i] = 0\n",
    "        return [1] + digits\n",
    "    \n",
    "sol = Solution()\n",
    "value_list = [1,2,3,4,9,9]\n",
    "print(sol.plusOne(value_list))"
   ]
  },
  {
   "cell_type": "code",
   "execution_count": 22,
   "id": "8b1c0bc9",
   "metadata": {},
   "outputs": [
    {
     "name": "stdout",
     "output_type": "stream",
     "text": [
      "[1, 0]\n"
     ]
    }
   ],
   "source": [
    "class Solution(object):\n",
    "    def plusOne(self, digits):\n",
    "        \"\"\"\n",
    "        :type digits: List[int]\n",
    "        :rtype: List[int]\n",
    "        \"\"\"\n",
    "        for i in range(len(digits)-1,-1,-1):\n",
    "            if digits[i]< 9:\n",
    "                digits[i]=digits[i] + 1\n",
    "                return digits\n",
    "            digits[i] = 0\n",
    "        return [1] + digits\n",
    "sol = Solution()\n",
    "value_list = [9]\n",
    "print(sol.plusOne(value_list))"
   ]
  },
  {
   "cell_type": "code",
   "execution_count": null,
   "id": "a29e84c8",
   "metadata": {},
   "outputs": [],
   "source": []
  }
 ],
 "metadata": {
  "kernelspec": {
   "display_name": "Python 3",
   "language": "python",
   "name": "python3"
  },
  "language_info": {
   "codemirror_mode": {
    "name": "ipython",
    "version": 3
   },
   "file_extension": ".py",
   "mimetype": "text/x-python",
   "name": "python",
   "nbconvert_exporter": "python",
   "pygments_lexer": "ipython3",
   "version": "3.13.3"
  }
 },
 "nbformat": 4,
 "nbformat_minor": 5
}
