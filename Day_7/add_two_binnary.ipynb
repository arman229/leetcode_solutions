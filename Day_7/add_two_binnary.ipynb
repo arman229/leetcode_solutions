{
 "cells": [
  {
   "cell_type": "code",
   "execution_count": 3,
   "id": "bf75061e",
   "metadata": {},
   "outputs": [
    {
     "name": "stdout",
     "output_type": "stream",
     "text": [
      "2\n"
     ]
    }
   ],
   "source": [
    "print(4//2)"
   ]
  },
  {
   "cell_type": "code",
   "execution_count": null,
   "id": "4da7b257",
   "metadata": {},
   "outputs": [],
   "source": [
    "class Solution(object):\n",
    "    def addBinary(self, a, b):\n",
    "        \"\"\"\n",
    "        :type a: str\n",
    "        :type b: str\n",
    "        :rtype: str\n",
    "        \"\"\"\n",
    "        a_index = len(a) - 1\n",
    "        b_index = len(b) - 1\n",
    "        carry = 0\n",
    "        result = []\n",
    "        while a_index >= 0 or b_index >= 0 or carry:\n",
    "            resp = carry\n",
    "            if a_index >= 0:\n",
    "                resp = resp + int(a[a_index])\n",
    "                a_index = a_index - 1\n",
    "            if b_index >= 0:\n",
    "                resp = resp + int(b[b_index])\n",
    "                b_index = b_index - 1\n",
    "            result.append(str(resp % 2))\n",
    "            carry = resp // 2\n",
    "        return ''.join(reversed(result))\n",
    "    \n",
    "sol = Solution()\n",
    "a='11'\n",
    "b='110'\n",
    "print(sol.addBinary(a,b))    "
   ]
  }
 ],
 "metadata": {
  "kernelspec": {
   "display_name": "Python 3",
   "language": "python",
   "name": "python3"
  },
  "language_info": {
   "codemirror_mode": {
    "name": "ipython",
    "version": 3
   },
   "file_extension": ".py",
   "mimetype": "text/x-python",
   "name": "python",
   "nbconvert_exporter": "python",
   "pygments_lexer": "ipython3",
   "version": "3.13.3"
  }
 },
 "nbformat": 4,
 "nbformat_minor": 5
}
