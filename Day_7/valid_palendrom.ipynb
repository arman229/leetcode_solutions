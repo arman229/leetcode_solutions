{
 "cells": [
  {
   "cell_type": "code",
   "execution_count": 6,
   "id": "b52761dc",
   "metadata": {},
   "outputs": [
    {
     "name": "stdout",
     "output_type": "stream",
     "text": [
      "True\n"
     ]
    }
   ],
   "source": [
    "class Solution(object):\n",
    "    def isPalindrome(self, s):\n",
    "        \"\"\"\n",
    "        :type s: str\n",
    "        :rtype: bool\n",
    "        \"\"\" \n",
    "        lower_string = s.lower()\n",
    "        cleaned_str = ''.join(i for i in lower_string if i.isalnum())\n",
    "        if cleaned_str == cleaned_str[::-1]:\n",
    "            return True\n",
    "        else:\n",
    "            return False\n",
    "        \n",
    "sol = Solution()\n",
    "my_str = \"A man, a plan, a canal: Panama\"\n",
    "print(sol.isPalindrome(my_str))\n",
    "        \n",
    "        \n",
    "         "
   ]
  },
  {
   "cell_type": "code",
   "execution_count": 4,
   "id": "507980b0",
   "metadata": {},
   "outputs": [
    {
     "name": "stdout",
     "output_type": "stream",
     "text": [
      "a  m  a  n  a  p  l  a  n  a  c  a  n  a  l  p  a  n  a  m  a\n"
     ]
    }
   ],
   "source": [
    " \n",
    "s = \"A man, a plan, a canal: Panama\".lower()\n",
    "cleaned_str = '  '.join(i for i in s if i.isalnum())\n",
    "print(cleaned_str)"
   ]
  },
  {
   "cell_type": "code",
   "execution_count": 10,
   "id": "fc84e7c3",
   "metadata": {},
   "outputs": [
    {
     "name": "stdout",
     "output_type": "stream",
     "text": [
      "0\n",
      "1\n",
      "2\n",
      "3\n",
      "4\n",
      "5\n",
      "6\n",
      "7\n",
      "8\n",
      "9\n",
      "True\n"
     ]
    }
   ],
   "source": [
    "class Solution(object):\n",
    "    def isPalindrome(self, s):\n",
    "        b= len(s) -1\n",
    "        a=0\n",
    "        s=s.lower()\n",
    "        iterrations = 0\n",
    "        while a<b:\n",
    "            print(iterrations)\n",
    "            iterrations +=1\n",
    "            if s[a].isalnum() and s[b].isalnum():\n",
    "                if s[a] != s[b]:\n",
    "                    return False\n",
    "                else:\n",
    "                    a+=1\n",
    "                    b-=1\n",
    "            elif s[a].isalnum():\n",
    "                b-=1\n",
    "            else :\n",
    "                a+=1\n",
    "        return True\n",
    "sol = Solution()\n",
    "my_str = \" : Panamanap : \"\n",
    "print(sol.isPalindrome(my_str))"
   ]
  },
  {
   "cell_type": "code",
   "execution_count": 11,
   "id": "33c8d2d8",
   "metadata": {},
   "outputs": [
    {
     "name": "stdout",
     "output_type": "stream",
     "text": [
      "0\n",
      "1\n",
      "2\n",
      "3\n",
      "4\n",
      "5\n",
      "6\n",
      "True\n"
     ]
    }
   ],
   "source": [
    "class Solution(object):\n",
    "    def isPalindrome(self, s):\n",
    "        b= len(s) -1\n",
    "        a=0\n",
    "        s=s.lower()\n",
    "        iterrations = 0\n",
    "        while a<b:\n",
    "            print(iterrations)\n",
    "            iterrations +=1\n",
    "            if s[a].isalnum() and s[b].isalnum():\n",
    "                if s[a] != s[b]:\n",
    "                    return False\n",
    "                else:\n",
    "                    a+=1\n",
    "                    b-=1\n",
    "            elif not s[a].isalnum() and not s[b].isalnum():\n",
    "                a+=1\n",
    "                b-=1\n",
    "            elif s[a].isalnum():\n",
    "                b-=1\n",
    "            else :\n",
    "                a+=1\n",
    "        return True\n",
    "sol = Solution()\n",
    "my_str = \" : Panamanap : \"\n",
    "print(sol.isPalindrome(my_str))"
   ]
  }
 ],
 "metadata": {
  "kernelspec": {
   "display_name": "Python 3",
   "language": "python",
   "name": "python3"
  },
  "language_info": {
   "codemirror_mode": {
    "name": "ipython",
    "version": 3
   },
   "file_extension": ".py",
   "mimetype": "text/x-python",
   "name": "python",
   "nbconvert_exporter": "python",
   "pygments_lexer": "ipython3",
   "version": "3.13.3"
  }
 },
 "nbformat": 4,
 "nbformat_minor": 5
}
