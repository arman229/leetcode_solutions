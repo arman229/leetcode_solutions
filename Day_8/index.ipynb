{
 "cells": [
  {
   "cell_type": "code",
   "execution_count": 3,
   "id": "18d08615",
   "metadata": {},
   "outputs": [
    {
     "name": "stdout",
     "output_type": "stream",
     "text": [
      "AA\n"
     ]
    }
   ],
   "source": [
    "class Solution(object):\n",
    "    def convertToTitle(self, columnNumber):\n",
    "        \"\"\"\n",
    "        :type columnNumber: int\n",
    "        :rtype: str\n",
    "        \"\"\"\n",
    "        mapping_content =  {1: 'A', 2: 'B', 3: 'C', 4: 'D', 5: 'E', 6: 'F', 7: 'G', 8: 'H', 9: 'I', 10: 'J', 11: 'K', 12: 'L', 13: 'M', 14: 'N', 15: 'O', 16: 'P', 17: 'Q', 18: 'R', 19: 'S', 20: 'T', 21: 'U', 22: 'V', 23: 'W', 24: 'X', 25: 'Y', 26: 'Z'}\n",
    "        result = ''\n",
    "        while columnNumber > 0:\n",
    "            columnNumber -= 1 \n",
    "            modulus_value = columnNumber%26\n",
    "            result = mapping_content[modulus_value +1] + result\n",
    "            columnNumber = columnNumber//26\n",
    "        return result\n",
    "sol = Solution()\n",
    "print(sol.convertToTitle(27))    "
   ]
  },
  {
   "cell_type": "code",
   "execution_count": 27,
   "id": "864ef31f",
   "metadata": {},
   "outputs": [
    {
     "name": "stdout",
     "output_type": "stream",
     "text": [
      "Z\n"
     ]
    }
   ],
   "source": [
    "class Solution(object):\n",
    "    def convertToTitle(self, columnNumber):\n",
    "        \"\"\"\n",
    "        :type columnNumber: int\n",
    "        :rtype: str\n",
    "        \"\"\"\n",
    "        result = ''\n",
    "        while columnNumber > 0:\n",
    "            columnNumber -=1\n",
    "            moduls_value = columnNumber % 26\n",
    "            result = chr(moduls_value+ord('A')) + result\n",
    "            columnNumber //= 26\n",
    "        return result\n",
    "        \n",
    "sol = Solution()\n",
    "print(sol.convertToTitle(26))    "
   ]
  },
  {
   "cell_type": "code",
   "execution_count": null,
   "id": "4d698f1c",
   "metadata": {},
   "outputs": [],
   "source": []
  }
 ],
 "metadata": {
  "kernelspec": {
   "display_name": "Python 3",
   "language": "python",
   "name": "python3"
  },
  "language_info": {
   "codemirror_mode": {
    "name": "ipython",
    "version": 3
   },
   "file_extension": ".py",
   "mimetype": "text/x-python",
   "name": "python",
   "nbconvert_exporter": "python",
   "pygments_lexer": "ipython3",
   "version": "3.13.3"
  }
 },
 "nbformat": 4,
 "nbformat_minor": 5
}
