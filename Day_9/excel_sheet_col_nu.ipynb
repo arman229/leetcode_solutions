{
 "cells": [
  {
   "cell_type": "code",
   "execution_count": 32,
   "id": "78dae2e5",
   "metadata": {},
   "outputs": [
    {
     "name": "stdout",
     "output_type": "stream",
     "text": [
      "27\n"
     ]
    }
   ],
   "source": [
    "class Solution(object):\n",
    "    def titleToNumber(self, columnTitle):\n",
    "        \"\"\"\n",
    "        :type columnTitle: str\n",
    "        :rtype: int\n",
    "        \"\"\"\n",
    "        \n",
    "        value=0\n",
    "        mapping_content =  {'A': 1, 'B': 2, 'C': 3, 'D': 4, 'E': 5, 'F': 6, 'G': 7, 'H': 8, 'I': 9, 'J': 10, 'K': 11, 'L': 12, 'M': 13, 'N': 14, 'O': 15, 'P': 16, 'Q': 17, 'R': 18, 'S': 19, 'T': 20, 'U': 21, 'V': 22, 'W': 23, 'X': 24, 'Y': 25, 'Z': 26}\n",
    "                  \n",
    "        for i in columnTitle:\n",
    "            value = value*26 + mapping_content[i]\n",
    "        return value  \n",
    "            \n",
    "sol = Solution()\n",
    "print(sol.titleToNumber('AA'))    "
   ]
  },
  {
   "cell_type": "code",
   "execution_count": null,
   "id": "ace8b711",
   "metadata": {},
   "outputs": [
    {
     "name": "stdout",
     "output_type": "stream",
     "text": [
      "27\n"
     ]
    }
   ],
   "source": [
    "class Solution(object):\n",
    "    def titleToNumber(self, columnTitle):\n",
    "        \"\"\"\n",
    "        :type columnTitle: str\n",
    "        :rtype: int\n",
    "        \"\"\"\n",
    "        \n",
    "        value=0        \n",
    "        for i in columnTitle:\n",
    "            value = value*26 +  ord(i) - 64\n",
    "        return value  \n",
    "            \n",
    "sol = Solution()\n",
    "print(sol.titleToNumber('AA'))    "
   ]
  },
  {
   "cell_type": "code",
   "execution_count": 35,
   "id": "9339916c",
   "metadata": {},
   "outputs": [
    {
     "name": "stdout",
     "output_type": "stream",
     "text": [
      "26\n"
     ]
    }
   ],
   "source": [
    "print(ord('Z')-64)"
   ]
  },
  {
   "cell_type": "code",
   "execution_count": null,
   "id": "44314ccb",
   "metadata": {},
   "outputs": [],
   "source": []
  }
 ],
 "metadata": {
  "kernelspec": {
   "display_name": "Python 3",
   "language": "python",
   "name": "python3"
  },
  "language_info": {
   "codemirror_mode": {
    "name": "ipython",
    "version": 3
   },
   "file_extension": ".py",
   "mimetype": "text/x-python",
   "name": "python",
   "nbconvert_exporter": "python",
   "pygments_lexer": "ipython3",
   "version": "3.13.3"
  }
 },
 "nbformat": 4,
 "nbformat_minor": 5
}
