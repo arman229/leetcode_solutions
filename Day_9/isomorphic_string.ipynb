{
 "cells": [
  {
   "cell_type": "code",
   "execution_count": 34,
   "id": "bc5c1a46",
   "metadata": {},
   "outputs": [
    {
     "name": "stdout",
     "output_type": "stream",
     "text": [
      "b\n",
      "a\n",
      "d\n",
      "False\n"
     ]
    }
   ],
   "source": [
    "class Solution(object):\n",
    "    def isIsomorphic(self, s, t):\n",
    "        \"\"\"\n",
    "        :type s: str\n",
    "        :type t: str\n",
    "        :rtype: bool\n",
    "        \"\"\"\n",
    "        tests={}\n",
    "        n = len(s)\n",
    "        for i in range(n):\n",
    "            print(s[i])\n",
    "            if s[i] not in tests and t[i] not in tests.values(): \n",
    "                tests[s[i]]= t[i]\n",
    "            else:\n",
    "                if s[i] in tests: \n",
    "                    if tests[s[i]] !=t[i]:\n",
    "                        break\n",
    "                else:\n",
    "                    break\n",
    "            \n",
    "        else:\n",
    "            return True\n",
    "        return False\n",
    "    \n",
    "sol = Solution()\n",
    "s1 = \"badc\"\n",
    "s2 = \"baba\"\n",
    "print(sol.isIsomorphic(s1,s2))"
   ]
  },
  {
   "cell_type": "code",
   "execution_count": null,
   "id": "a5a6ea60",
   "metadata": {},
   "outputs": [
    {
     "name": "stdout",
     "output_type": "stream",
     "text": [
      "True\n"
     ]
    }
   ],
   "source": [
    "my_tests = {'a':2,'b':4}\n",
    "print(my_tests[])\n",
    "print(2 in my_tests.values())"
   ]
  },
  {
   "cell_type": "code",
   "execution_count": null,
   "id": "61a52a86",
   "metadata": {},
   "outputs": [],
   "source": []
  }
 ],
 "metadata": {
  "kernelspec": {
   "display_name": "Python 3",
   "language": "python",
   "name": "python3"
  },
  "language_info": {
   "codemirror_mode": {
    "name": "ipython",
    "version": 3
   },
   "file_extension": ".py",
   "mimetype": "text/x-python",
   "name": "python",
   "nbconvert_exporter": "python",
   "pygments_lexer": "ipython3",
   "version": "3.13.3"
  }
 },
 "nbformat": 4,
 "nbformat_minor": 5
}
